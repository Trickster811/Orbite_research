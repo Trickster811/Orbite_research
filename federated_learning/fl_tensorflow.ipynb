{
 "cells": [
  {
   "cell_type": "code",
   "execution_count": 1,
   "id": "06edd24a",
   "metadata": {},
   "outputs": [
    {
     "name": "stdout",
     "output_type": "stream",
     "text": [
      "Defaulting to user installation because normal site-packages is not writeable\n",
      "\u001b[33mWARNING: Skipping /usr/lib/python3.12/dist-packages/tqdm-4.66.5.dist-info due to invalid metadata entry 'name'\u001b[0m\u001b[33m\n",
      "\u001b[0mCollecting tensorflow-federated\n",
      "  Using cached tensorflow_federated-0.33.0-py2.py3-none-any.whl (885 kB)\n",
      "Collecting absl-py~=1.0.0 (from tensorflow-federated)\n",
      "  Using cached absl_py-1.0.0-py3-none-any.whl (126 kB)\n",
      "Collecting attrs~=21.4.0 (from tensorflow-federated)\n",
      "  Using cached attrs-21.4.0-py2.py3-none-any.whl (60 kB)\n",
      "Collecting cachetools~=3.1.1 (from tensorflow-federated)\n",
      "  Using cached cachetools-3.1.1-py2.py3-none-any.whl (11 kB)\n",
      "Collecting dm-tree~=0.1.7 (from tensorflow-federated)\n",
      "  Using cached dm_tree-0.1.9-cp312-cp312-manylinux_2_17_x86_64.manylinux2014_x86_64.whl (153 kB)\n",
      "Collecting farmhashpy~=0.4.0 (from tensorflow-federated)\n",
      "  Using cached farmhashpy-0.4.0.tar.gz (98 kB)\n",
      "  Preparing metadata (setup.py) ... \u001b[?25ldone\n",
      "\u001b[?25hCollecting grpcio~=1.46.3 (from tensorflow-federated)\n",
      "  Using cached grpcio-1.46.5.tar.gz (21.8 MB)\n",
      "  Preparing metadata (setup.py) ... \u001b[?25ldone\n",
      "\u001b[?25hINFO: pip is looking at multiple versions of tensorflow-federated to determine which version is compatible with other requirements. This could take a while.\n",
      "Collecting tensorflow-federated\n",
      "  Using cached tensorflow_federated-0.32.0-py2.py3-none-any.whl (884 kB)\n",
      "  Using cached tensorflow_federated-0.31.0-py2.py3-none-any.whl (884 kB)\n",
      "  Using cached tensorflow_federated-0.30.0-py2.py3-none-any.whl (875 kB)\n",
      "Collecting attrs~=21.2.0 (from tensorflow-federated)\n",
      "  Using cached attrs-21.2.0-py2.py3-none-any.whl (53 kB)\n",
      "Collecting tensorflow-federated\n",
      "  Using cached tensorflow_federated-0.29.0-py2.py3-none-any.whl (867 kB)\n",
      "  Using cached tensorflow_federated-0.28.0-py2.py3-none-any.whl (859 kB)\n",
      "  Using cached tensorflow_federated-0.27.0-py2.py3-none-any.whl (861 kB)\n",
      "Collecting grpcio~=1.34.0 (from tensorflow-federated)\n",
      "  Using cached grpcio-1.34.1.tar.gz (21.1 MB)\n",
      "  Preparing metadata (setup.py) ... \u001b[?25ldone\n",
      "\u001b[?25hCollecting jax~=0.2.27 (from tensorflow-federated)\n",
      "  Using cached jax-0.2.28.tar.gz (887 kB)\n",
      "  Preparing metadata (setup.py) ... \u001b[?25ldone\n",
      "\u001b[?25hCollecting tensorflow-federated\n",
      "  Using cached tensorflow_federated-0.26.0-py2.py3-none-any.whl (862 kB)\n",
      "INFO: pip is looking at multiple versions of tensorflow-federated to determine which version is compatible with other requirements. This could take a while.\n",
      "  Using cached tensorflow_federated-0.24.0-py2.py3-none-any.whl (866 kB)\n",
      "  Using cached tensorflow_federated-0.23.0-py2.py3-none-any.whl (866 kB)\n",
      "  Using cached tensorflow_federated-0.22.0-py2.py3-none-any.whl (863 kB)\n",
      "  Using cached tensorflow_federated-0.21.0-py2.py3-none-any.whl (857 kB)\n",
      "  Using cached tensorflow_federated-0.20.0-py2.py3-none-any.whl (819 kB)\n",
      "INFO: This is taking longer than usual. You might need to provide the dependency resolver with stricter constraints to reduce runtime. See https://pip.pypa.io/warnings/backtracking for guidance. If you want to abort this run, press Ctrl + C.\n",
      "  Using cached tensorflow_federated-0.19.0-py2.py3-none-any.whl (602 kB)\n",
      "Collecting absl-py~=0.10 (from tensorflow-federated)\n",
      "  Using cached absl_py-0.15.0-py3-none-any.whl (132 kB)\n",
      "Collecting attrs~=19.3.0 (from tensorflow-federated)\n",
      "  Using cached attrs-19.3.0-py2.py3-none-any.whl (39 kB)\n",
      "Collecting tensorflow-federated\n",
      "  Using cached tensorflow_federated-0.18.0-py2.py3-none-any.whl (578 kB)\n",
      "Collecting grpcio~=1.32.0 (from tensorflow-federated)\n",
      "  Using cached grpcio-1.32.0.tar.gz (20.8 MB)\n",
      "  Preparing metadata (setup.py) ... \u001b[?25ldone\n",
      "\u001b[?25hCollecting h5py~=2.10.0 (from tensorflow-federated)\n",
      "  Using cached h5py-2.10.0.tar.gz (301 kB)\n",
      "  Preparing metadata (setup.py) ... \u001b[?25ldone\n",
      "\u001b[?25hCollecting tensorflow-federated\n",
      "  Using cached tensorflow_federated-0.17.0-py2.py3-none-any.whl (517 kB)\n",
      "Collecting absl-py~=0.9.0 (from tensorflow-federated)\n",
      "  Using cached absl-py-0.9.0.tar.gz (104 kB)\n",
      "  Preparing metadata (setup.py) ... \u001b[?25lerror\n",
      "  \u001b[1;31merror\u001b[0m: \u001b[1msubprocess-exited-with-error\u001b[0m\n",
      "  \n",
      "  \u001b[31m×\u001b[0m \u001b[32mpython setup.py egg_info\u001b[0m did not run successfully.\n",
      "  \u001b[31m│\u001b[0m exit code: \u001b[1;36m1\u001b[0m\n",
      "  \u001b[31m╰─>\u001b[0m \u001b[31m[6 lines of output]\u001b[0m\n",
      "  \u001b[31m   \u001b[0m Traceback (most recent call last):\n",
      "  \u001b[31m   \u001b[0m   File \"<string>\", line 2, in <module>\n",
      "  \u001b[31m   \u001b[0m   File \"<pip-setuptools-caller>\", line 34, in <module>\n",
      "  \u001b[31m   \u001b[0m   File \"/tmp/pip-install-37cpds3q/absl-py_bfcbc0c8bdb94945a2bc5b6cbba96a13/setup.py\", line 34, in <module>\n",
      "  \u001b[31m   \u001b[0m     raise RuntimeError('Python version 2.7 or 3.4+ is required.')\n",
      "  \u001b[31m   \u001b[0m RuntimeError: Python version 2.7 or 3.4+ is required.\n",
      "  \u001b[31m   \u001b[0m \u001b[31m[end of output]\u001b[0m\n",
      "  \n",
      "  \u001b[1;35mnote\u001b[0m: This error originates from a subprocess, and is likely not a problem with pip.\n",
      "\u001b[?25h\u001b[1;31merror\u001b[0m: \u001b[1mmetadata-generation-failed\u001b[0m\n",
      "\n",
      "\u001b[31m×\u001b[0m Encountered error while generating package metadata.\n",
      "\u001b[31m╰─>\u001b[0m See above for output.\n",
      "\n",
      "\u001b[1;35mnote\u001b[0m: This is an issue with the package mentioned above, not pip.\n",
      "\u001b[1;36mhint\u001b[0m: See above for details.\n",
      "Note: you may need to restart the kernel to use updated packages.\n"
     ]
    }
   ],
   "source": [
    "%pip install --upgrade tensorflow-federated"
   ]
  },
  {
   "cell_type": "code",
   "execution_count": 2,
   "id": "9f66c249",
   "metadata": {},
   "outputs": [
    {
     "name": "stdout",
     "output_type": "stream",
     "text": [
      "Defaulting to user installation because normal site-packages is not writeable\n",
      "\u001b[33mWARNING: Requirement '/tmp/tensorflow_federated/*.whl' looks like a filename, but the file does not exist\u001b[0m\u001b[33m\n",
      "\u001b[0m\u001b[31mERROR: *.whl is not a valid wheel filename.\u001b[0m\u001b[31m\n",
      "\u001b[0mNote: you may need to restart the kernel to use updated packages.\n"
     ]
    }
   ],
   "source": [
    "%pip install --upgrade \"/tmp/tensorflow_federated/\"*\".whl\""
   ]
  }
 ],
 "metadata": {
  "kernelspec": {
   "display_name": "Python 3",
   "language": "python",
   "name": "python3"
  },
  "language_info": {
   "codemirror_mode": {
    "name": "ipython",
    "version": 3
   },
   "file_extension": ".py",
   "mimetype": "text/x-python",
   "name": "python",
   "nbconvert_exporter": "python",
   "pygments_lexer": "ipython3",
   "version": "3.12.11"
  }
 },
 "nbformat": 4,
 "nbformat_minor": 5
}

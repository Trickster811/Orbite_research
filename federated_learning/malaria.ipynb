{
 "cells": [
  {
   "cell_type": "code",
   "execution_count": 4,
   "id": "bb362b12",
   "metadata": {},
   "outputs": [],
   "source": [
    "import numpy as np\n",
    "import matplotlib.pyplot as plt\n",
    "from scipy.integrate import solve_ivp"
   ]
  },
  {
   "cell_type": "code",
   "execution_count": 6,
   "id": "c1e1660f",
   "metadata": {},
   "outputs": [],
   "source": [
    "#valeurs des parametres\n",
    "a = 5\n",
    "alpha_1 = 0\n",
    "alpha_2 = 0\n",
    "\n",
    "beta_h = 0.022\n",
    "\n",
    "delta_hs = 9 * 10**-5\n",
    "delta_hr = 9 * 10**-5\n",
    "delta_vr = 0.058\n",
    "delta_vs = 0.058\n",
    "\n",
    "eta_1 = 0\n",
    "eta_2 = 0\n",
    "\n",
    "gamma_r = 0\n",
    "gamma_s = 0\n",
    "gamma_h = 5.5 * 10**-4\n",
    "\n",
    "lambda_h = 8.5\n",
    "lambda_v = 2 * 10**4\n",
    "\n",
    "mu_v = 0.033\n",
    "mu_h = 1.66 * 10**-5\n",
    "\n",
    "omega_cr = 0\n",
    "omega_nr = 0\n",
    "omega_cs = 0\n",
    "\n",
    "p = 0\n",
    "\n",
    "q = 0\n"
   ]
  }
 ],
 "metadata": {
  "kernelspec": {
   "display_name": "Python 3",
   "language": "python",
   "name": "python3"
  },
  "language_info": {
   "codemirror_mode": {
    "name": "ipython",
    "version": 3
   },
   "file_extension": ".py",
   "mimetype": "text/x-python",
   "name": "python",
   "nbconvert_exporter": "python",
   "pygments_lexer": "ipython3",
   "version": "3.12.4"
  }
 },
 "nbformat": 4,
 "nbformat_minor": 5
}
